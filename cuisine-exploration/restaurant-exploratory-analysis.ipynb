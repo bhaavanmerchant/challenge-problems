{
 "cells": [
  {
   "cell_type": "markdown",
   "metadata": {},
   "source": [
    "### Exploratory analysis of restaurant data"
   ]
  },
  {
   "cell_type": "markdown",
   "metadata": {},
   "source": [
    "Importing libraries and loading data"
   ]
  },
  {
   "cell_type": "code",
   "execution_count": 1,
   "metadata": {
    "collapsed": false
   },
   "outputs": [
    {
     "data": {
      "text/html": [
       "<div>\n",
       "<table border=\"1\" class=\"dataframe\">\n",
       "  <thead>\n",
       "    <tr style=\"text-align: right;\">\n",
       "      <th></th>\n",
       "      <th>hotel_name</th>\n",
       "      <th>city</th>\n",
       "      <th>features</th>\n",
       "      <th>feature_0</th>\n",
       "      <th>feature_1</th>\n",
       "      <th>feature_2</th>\n",
       "      <th>feature_3</th>\n",
       "      <th>feature_4</th>\n",
       "      <th>feature_5</th>\n",
       "      <th>feature_6</th>\n",
       "      <th>...</th>\n",
       "      <th>feature_20</th>\n",
       "      <th>feature_21</th>\n",
       "      <th>feature_22</th>\n",
       "      <th>feature_23</th>\n",
       "      <th>feature_24</th>\n",
       "      <th>feature_25</th>\n",
       "      <th>feature_26</th>\n",
       "      <th>feature_27</th>\n",
       "      <th>feature_28</th>\n",
       "      <th>feature_29</th>\n",
       "    </tr>\n",
       "  </thead>\n",
       "  <tbody>\n",
       "    <tr>\n",
       "      <th>0</th>\n",
       "      <td>Tanner's</td>\n",
       "      <td>atlanta</td>\n",
       "      <td>[100, 253, 250, 178, 174, 063, 059, 036, 008, ...</td>\n",
       "      <td>100</td>\n",
       "      <td>253</td>\n",
       "      <td>250</td>\n",
       "      <td>178</td>\n",
       "      <td>174</td>\n",
       "      <td>063</td>\n",
       "      <td>059</td>\n",
       "      <td>...</td>\n",
       "      <td>NaN</td>\n",
       "      <td>NaN</td>\n",
       "      <td>NaN</td>\n",
       "      <td>NaN</td>\n",
       "      <td>NaN</td>\n",
       "      <td>NaN</td>\n",
       "      <td>NaN</td>\n",
       "      <td>NaN</td>\n",
       "      <td>NaN</td>\n",
       "      <td>NaN</td>\n",
       "    </tr>\n",
       "    <tr>\n",
       "      <th>1</th>\n",
       "      <td>Frijoleros</td>\n",
       "      <td>atlanta</td>\n",
       "      <td>[250, 062, 132, 174, 063, 197, 071, 142, 234, ...</td>\n",
       "      <td>250</td>\n",
       "      <td>062</td>\n",
       "      <td>132</td>\n",
       "      <td>174</td>\n",
       "      <td>063</td>\n",
       "      <td>197</td>\n",
       "      <td>071</td>\n",
       "      <td>...</td>\n",
       "      <td>NaN</td>\n",
       "      <td>NaN</td>\n",
       "      <td>NaN</td>\n",
       "      <td>NaN</td>\n",
       "      <td>NaN</td>\n",
       "      <td>NaN</td>\n",
       "      <td>NaN</td>\n",
       "      <td>NaN</td>\n",
       "      <td>NaN</td>\n",
       "      <td>NaN</td>\n",
       "    </tr>\n",
       "    <tr>\n",
       "      <th>2</th>\n",
       "      <td>Indian Delights</td>\n",
       "      <td>atlanta</td>\n",
       "      <td>[253, 250, 150, 174, 083, 059, 036, 117, 243, ...</td>\n",
       "      <td>253</td>\n",
       "      <td>250</td>\n",
       "      <td>150</td>\n",
       "      <td>174</td>\n",
       "      <td>083</td>\n",
       "      <td>059</td>\n",
       "      <td>036</td>\n",
       "      <td>...</td>\n",
       "      <td>NaN</td>\n",
       "      <td>NaN</td>\n",
       "      <td>NaN</td>\n",
       "      <td>NaN</td>\n",
       "      <td>NaN</td>\n",
       "      <td>NaN</td>\n",
       "      <td>NaN</td>\n",
       "      <td>NaN</td>\n",
       "      <td>NaN</td>\n",
       "      <td>NaN</td>\n",
       "    </tr>\n",
       "  </tbody>\n",
       "</table>\n",
       "<p>3 rows × 33 columns</p>\n",
       "</div>"
      ],
      "text/plain": [
       "        hotel_name     city  \\\n",
       "0         Tanner's  atlanta   \n",
       "1       Frijoleros  atlanta   \n",
       "2  Indian Delights  atlanta   \n",
       "\n",
       "                                            features feature_0 feature_1  \\\n",
       "0  [100, 253, 250, 178, 174, 063, 059, 036, 008, ...       100       253   \n",
       "1  [250, 062, 132, 174, 063, 197, 071, 142, 234, ...       250       062   \n",
       "2  [253, 250, 150, 174, 083, 059, 036, 117, 243, ...       253       250   \n",
       "\n",
       "  feature_2 feature_3 feature_4 feature_5 feature_6    ...     feature_20  \\\n",
       "0       250       178       174       063       059    ...            NaN   \n",
       "1       132       174       063       197       071    ...            NaN   \n",
       "2       150       174       083       059       036    ...            NaN   \n",
       "\n",
       "  feature_21 feature_22 feature_23 feature_24 feature_25 feature_26  \\\n",
       "0        NaN        NaN        NaN        NaN        NaN        NaN   \n",
       "1        NaN        NaN        NaN        NaN        NaN        NaN   \n",
       "2        NaN        NaN        NaN        NaN        NaN        NaN   \n",
       "\n",
       "  feature_27 feature_28 feature_29  \n",
       "0        NaN        NaN        NaN  \n",
       "1        NaN        NaN        NaN  \n",
       "2        NaN        NaN        NaN  \n",
       "\n",
       "[3 rows x 33 columns]"
      ]
     },
     "execution_count": 1,
     "metadata": {},
     "output_type": "execute_result"
    }
   ],
   "source": [
    "import pandas as pd\n",
    "import matplotlib.pyplot as plt\n",
    "\n",
    "def split_column(col):\n",
    "    s_col = col.split(\" \")\n",
    "    return pd.Series([s_col] + s_col)\n",
    "\n",
    "def get_str_id(i):\n",
    "    return str(1000+i)[1:]\n",
    "\n",
    "raw_df = pd.read_csv('city_hotel_features.txt', delimiter='\\t')\n",
    "feature_df = pd.read_csv('features.txt', delimiter='\\t')\n",
    "df = raw_df.join(raw_df[\"Features\"].apply(split_column))\n",
    "del df['Features']\n",
    "column_names = [\"hotel_name\", \"city\", \"features\"]\n",
    "for i in range(30):\n",
    "    column_names.append(\"feature_\" + str(i))\n",
    "df.columns = column_names\n",
    "feature_df.columns = ['cuisine_id', 'feature']\n",
    "feature_df[\"cuisine_id\"] = feature_df[\"cuisine_id\"].apply(get_str_id)\n",
    "df.head(3)"
   ]
  },
  {
   "cell_type": "markdown",
   "metadata": {},
   "source": [
    "Seeing the City distribution:"
   ]
  },
  {
   "cell_type": "code",
   "execution_count": 2,
   "metadata": {
    "collapsed": false
   },
   "outputs": [
    {
     "data": {
      "text/plain": [
       "new_york         1200\n",
       "chicago           676\n",
       "los_angeles       447\n",
       "boston            438\n",
       "san_francisco     414\n",
       "washington_dc     391\n",
       "new_orleans       327\n",
       "atlanta           267\n",
       "Name: city, dtype: int64"
      ]
     },
     "execution_count": 2,
     "metadata": {},
     "output_type": "execute_result"
    }
   ],
   "source": [
    "df[\"city\"].value_counts()"
   ]
  },
  {
   "cell_type": "markdown",
   "metadata": {},
   "source": [
    "For a feature request:"
   ]
  },
  {
   "cell_type": "code",
   "execution_count": 3,
   "metadata": {
    "collapsed": true
   },
   "outputs": [],
   "source": [
    "features_req = [\"113\", \"075\", \"008\", \"053\", \"167\", \"125\"]"
   ]
  },
  {
   "cell_type": "markdown",
   "metadata": {},
   "source": [
    "Let's score restaurants, and select top 10:"
   ]
  },
  {
   "cell_type": "code",
   "execution_count": 4,
   "metadata": {
    "collapsed": false
   },
   "outputs": [
    {
     "data": {
      "text/html": [
       "<div>\n",
       "<table border=\"1\" class=\"dataframe\">\n",
       "  <thead>\n",
       "    <tr style=\"text-align: right;\">\n",
       "      <th></th>\n",
       "      <th>index</th>\n",
       "      <th>hotel_name</th>\n",
       "    </tr>\n",
       "  </thead>\n",
       "  <tbody>\n",
       "    <tr>\n",
       "      <th>0</th>\n",
       "      <td>2332</td>\n",
       "      <td>Il Gattopardo</td>\n",
       "    </tr>\n",
       "    <tr>\n",
       "      <th>1</th>\n",
       "      <td>812</td>\n",
       "      <td>Saloon</td>\n",
       "    </tr>\n",
       "    <tr>\n",
       "      <th>2</th>\n",
       "      <td>2229</td>\n",
       "      <td>Caffe Cielo</td>\n",
       "    </tr>\n",
       "    <tr>\n",
       "      <th>3</th>\n",
       "      <td>3025</td>\n",
       "      <td>Andiamo</td>\n",
       "    </tr>\n",
       "    <tr>\n",
       "      <th>4</th>\n",
       "      <td>3030</td>\n",
       "      <td>Bull &amp; Bear</td>\n",
       "    </tr>\n",
       "    <tr>\n",
       "      <th>5</th>\n",
       "      <td>3529</td>\n",
       "      <td>Cafe 222</td>\n",
       "    </tr>\n",
       "    <tr>\n",
       "      <th>6</th>\n",
       "      <td>2315</td>\n",
       "      <td>Brio</td>\n",
       "    </tr>\n",
       "    <tr>\n",
       "      <th>7</th>\n",
       "      <td>3091</td>\n",
       "      <td>Barocco</td>\n",
       "    </tr>\n",
       "    <tr>\n",
       "      <th>8</th>\n",
       "      <td>2174</td>\n",
       "      <td>Mezzogiorno</td>\n",
       "    </tr>\n",
       "    <tr>\n",
       "      <th>9</th>\n",
       "      <td>2621</td>\n",
       "      <td>Petaluma</td>\n",
       "    </tr>\n",
       "  </tbody>\n",
       "</table>\n",
       "</div>"
      ],
      "text/plain": [
       "   index     hotel_name\n",
       "0   2332  Il Gattopardo\n",
       "1    812         Saloon\n",
       "2   2229    Caffe Cielo\n",
       "3   3025        Andiamo\n",
       "4   3030    Bull & Bear\n",
       "5   3529       Cafe 222\n",
       "6   2315           Brio\n",
       "7   3091        Barocco\n",
       "8   2174    Mezzogiorno\n",
       "9   2621       Petaluma"
      ]
     },
     "execution_count": 4,
     "metadata": {},
     "output_type": "execute_result"
    }
   ],
   "source": [
    "def get_score(features):\n",
    "    score = 0\n",
    "    for f in features_req:\n",
    "        if f in features:\n",
    "            score += 1\n",
    "    return score\n",
    "\n",
    "df[\"features\"].apply(get_score).sort_values(\n",
    "                    ascending=False)[:10].reset_index().join(\n",
    "                    df.reset_index(), lsuffix=\"l\", on=\"index\")[[\"index\", \"hotel_name\"]]"
   ]
  },
  {
   "cell_type": "markdown",
   "metadata": {},
   "source": [
    "Creating a horizontal dataframe for getting feature_id wise view, and then transposing it"
   ]
  },
  {
   "cell_type": "code",
   "execution_count": 5,
   "metadata": {
    "collapsed": false
   },
   "outputs": [],
   "source": [
    "df_hor = df.ix[:,0:3].join(df[\"features\"].apply(lambda x: pd.Series(x).value_counts()))\n",
    "\n",
    "def get_city_dets(df):\n",
    "    return df.sum()\n",
    "\n",
    "city_sum = df_hor.groupby(\"city\").apply(get_city_dets)\n",
    "city_sum_transpose = city_sum.ix[:,3:].transpose().reset_index()\n",
    "city_sum_transpose.columns =  [\"cuisine_id\"] + list(city_sum_transpose.columns[1:])\n",
    "city_sum_transpose = pd.merge(city_sum_transpose, feature_df, on='cuisine_id', how='left')"
   ]
  },
  {
   "cell_type": "markdown",
   "metadata": {},
   "source": [
    "For a given city, say:"
   ]
  },
  {
   "cell_type": "code",
   "execution_count": 6,
   "metadata": {
    "collapsed": true
   },
   "outputs": [],
   "source": [
    "city = 'new_orleans'"
   ]
  },
  {
   "cell_type": "markdown",
   "metadata": {},
   "source": [
    "we can now see the top N (5) features:"
   ]
  },
  {
   "cell_type": "code",
   "execution_count": 7,
   "metadata": {
    "collapsed": false
   },
   "outputs": [
    {
     "data": {
      "text/html": [
       "<div>\n",
       "<table border=\"1\" class=\"dataframe\">\n",
       "  <thead>\n",
       "    <tr style=\"text-align: right;\">\n",
       "      <th></th>\n",
       "      <th>feature</th>\n",
       "    </tr>\n",
       "  </thead>\n",
       "  <tbody>\n",
       "    <tr>\n",
       "      <th>157</th>\n",
       "      <td>Open on Mondays</td>\n",
       "    </tr>\n",
       "    <tr>\n",
       "      <th>158</th>\n",
       "      <td>Open on Sundays</td>\n",
       "    </tr>\n",
       "    <tr>\n",
       "      <th>253</th>\n",
       "      <td>Wheelchair Access</td>\n",
       "    </tr>\n",
       "    <tr>\n",
       "      <th>205</th>\n",
       "      <td>Excellent Service</td>\n",
       "    </tr>\n",
       "    <tr>\n",
       "      <th>75</th>\n",
       "      <td>Excellent Food</td>\n",
       "    </tr>\n",
       "  </tbody>\n",
       "</table>\n",
       "</div>"
      ],
      "text/plain": [
       "               feature\n",
       "157    Open on Mondays\n",
       "158    Open on Sundays\n",
       "253  Wheelchair Access\n",
       "205  Excellent Service\n",
       "75      Excellent Food"
      ]
     },
     "execution_count": 7,
     "metadata": {},
     "output_type": "execute_result"
    }
   ],
   "source": [
    "city_sum_transpose.sort_values(city, ascending = False)[0:5][[\"feature\"]]"
   ]
  },
  {
   "cell_type": "markdown",
   "metadata": {},
   "source": [
    "For a given feature, we can see city counts too:"
   ]
  },
  {
   "cell_type": "code",
   "execution_count": 8,
   "metadata": {
    "collapsed": false
   },
   "outputs": [
    {
     "data": {
      "text/plain": [
       "new_york         130\n",
       "chicago           64\n",
       "washington_dc     60\n",
       "boston            55\n",
       "san_francisco     44\n",
       "atlanta           33\n",
       "Name: city, dtype: int64"
      ]
     },
     "execution_count": 8,
     "metadata": {},
     "output_type": "execute_result"
    }
   ],
   "source": [
    "feature_id = \"008\"\n",
    "\n",
    "df_hor[df_hor[feature_id].notnull()][\"city\"].value_counts()"
   ]
  },
  {
   "cell_type": "markdown",
   "metadata": {},
   "source": [
    "#### Colaborative filtering for similar restaurants "
   ]
  },
  {
   "cell_type": "markdown",
   "metadata": {},
   "source": [
    "Build a vector matrix of all the restaurants, and then find all restaurants which minimize cosine product  $$\\theta < threshold$$ with respect to a given restaurant."
   ]
  },
  {
   "cell_type": "markdown",
   "metadata": {},
   "source": [
    "#### Similar features"
   ]
  },
  {
   "cell_type": "markdown",
   "metadata": {},
   "source": [
    "Maximizing the likelyhood of co-occurance, for say:"
   ]
  },
  {
   "cell_type": "code",
   "execution_count": 9,
   "metadata": {
    "collapsed": false
   },
   "outputs": [
    {
     "data": {
      "text/plain": [
       "0    205\n",
       "1    253\n",
       "2    075\n",
       "3    191\n",
       "4    192\n",
       "Name: index, dtype: object"
      ]
     },
     "execution_count": 9,
     "metadata": {},
     "output_type": "execute_result"
    }
   ],
   "source": [
    "feature = \"250\"\n",
    "df_hor[df_hor[feature].notnull()].sum()[3:].sort_values(ascending=False)[1:6].reset_index()[\"index\"]"
   ]
  },
  {
   "cell_type": "markdown",
   "metadata": {},
   "source": [
    "we got 5 features similar / co-related to a given feature"
   ]
  },
  {
   "cell_type": "markdown",
   "metadata": {},
   "source": [
    "#### Scaling\n",
    "This data is fairly simple and should be easily be scalable and accomodated on machine RAMs."
   ]
  },
  {
   "cell_type": "code",
   "execution_count": 10,
   "metadata": {
    "collapsed": false
   },
   "outputs": [
    {
     "name": "stdout",
     "output_type": "stream",
     "text": [
      "Current size: 9.32396125793457 MB\n"
     ]
    }
   ],
   "source": [
    "import sys\n",
    "print(\"Current size: \" + str(sys.getsizeof(df_hor) / (1024 * 1024)) + \" MB\")"
   ]
  },
  {
   "cell_type": "markdown",
   "metadata": {},
   "source": [
    "This data can easily grow to about 1000 times its size. However, in extreme case, if it does grow as much, all the computations are easily partionable on hotels / cities. Using these as partitions in Spark RDDs or DataFrames, the system can be made to handle more load with horizontal scaling"
   ]
  },
  {
   "cell_type": "code",
   "execution_count": null,
   "metadata": {
    "collapsed": true
   },
   "outputs": [],
   "source": []
  }
 ],
 "metadata": {
  "kernelspec": {
   "display_name": "Python 3",
   "language": "python",
   "name": "python3"
  },
  "language_info": {
   "codemirror_mode": {
    "name": "ipython",
    "version": 3
   },
   "file_extension": ".py",
   "mimetype": "text/x-python",
   "name": "python",
   "nbconvert_exporter": "python",
   "pygments_lexer": "ipython3",
   "version": "3.5.2"
  }
 },
 "nbformat": 4,
 "nbformat_minor": 0
}
